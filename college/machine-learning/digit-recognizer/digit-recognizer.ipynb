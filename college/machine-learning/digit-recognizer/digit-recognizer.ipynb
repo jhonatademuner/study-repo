{
 "cells": [
  {
   "cell_type": "code",
   "execution_count": 55,
   "metadata": {},
   "outputs": [],
   "source": [
    "import numpy as np \n",
    "import pandas as pd\n",
    "from keras.datasets import mnist\n",
    "from keras.layers import Dense, Flatten\n",
    "from keras.models import Sequential\n",
    "from keras.utils import to_categorical\n",
    "from keras.optimizers import Adam\n",
    "from sklearn.model_selection import train_test_split"
   ]
  },
  {
   "cell_type": "code",
   "execution_count": 56,
   "metadata": {},
   "outputs": [
    {
     "name": "stdout",
     "output_type": "stream",
     "text": [
      "(37800, 28, 28)\n",
      "(4200, 28, 28)\n",
      "(28000, 28, 28)\n"
     ]
    }
   ],
   "source": [
    "\n",
    "train = pd.read_csv('train.csv')\n",
    "test = pd.read_csv('test.csv')\n",
    "\n",
    "(x_train, x_val, y_train, y_val) = train_test_split(train.iloc[:,1:], train['label'], test_size=0.1, random_state=42)\n",
    "\n",
    "x_test = test\n",
    "\n",
    "x_train = x_train.values.reshape(-1, 28, 28)\n",
    "x_val = x_val.values.reshape(-1, 28, 28)\n",
    "x_test = x_test.values.reshape(-1, 28, 28)\n",
    "\n",
    "x_train = x_train / 255\n",
    "x_val = x_val / 255\n",
    "x_test = x_test / 255\n",
    "\n",
    "print(x_train.shape)\n",
    "print(x_val.shape)\n",
    "print(x_test.shape)"
   ]
  },
  {
   "cell_type": "code",
   "execution_count": 57,
   "metadata": {},
   "outputs": [
    {
     "name": "stdout",
     "output_type": "stream",
     "text": [
      "(37800, 10)\n",
      "(4200, 10)\n"
     ]
    }
   ],
   "source": [
    "y_train = to_categorical(y_train, num_classes=10)\n",
    "y_val = to_categorical(y_val, num_classes=10)\n",
    "\n",
    "print(y_train.shape)\n",
    "print(y_val.shape)"
   ]
  },
  {
   "cell_type": "code",
   "execution_count": 58,
   "metadata": {},
   "outputs": [
    {
     "name": "stdout",
     "output_type": "stream",
     "text": [
      "Model: \"sequential_7\"\n",
      "_________________________________________________________________\n",
      " Layer (type)                Output Shape              Param #   \n",
      "=================================================================\n",
      " flatten_7 (Flatten)         (None, 784)               0         \n",
      "                                                                 \n",
      " dense_25 (Dense)            (None, 128)               100480    \n",
      "                                                                 \n",
      " dense_26 (Dense)            (None, 32)                4128      \n",
      "                                                                 \n",
      " dense_27 (Dense)            (None, 16)                528       \n",
      "                                                                 \n",
      " dense_28 (Dense)            (None, 10)                170       \n",
      "                                                                 \n",
      "=================================================================\n",
      "Total params: 105306 (411.35 KB)\n",
      "Trainable params: 105306 (411.35 KB)\n",
      "Non-trainable params: 0 (0.00 Byte)\n",
      "_________________________________________________________________\n"
     ]
    }
   ],
   "source": [
    "model = Sequential()\n",
    "model.add(Flatten(input_shape=(28, 28)))\n",
    "model.add(Dense(128, activation='relu'))\n",
    "model.add(Dense(32, activation='relu'))\n",
    "model.add(Dense(16, activation='sigmoid'))\n",
    "model.add(Dense(10, activation='softmax'))\n",
    "\n",
    "model.summary()\n",
    "\n",
    "optimizer = Adam(learning_rate=0.001)\n",
    "model.compile(loss='categorical_crossentropy', \n",
    "\toptimizer=optimizer,\n",
    "\tmetrics=['accuracy'])"
   ]
  },
  {
   "cell_type": "code",
   "execution_count": 59,
   "metadata": {},
   "outputs": [
    {
     "name": "stdout",
     "output_type": "stream",
     "text": [
      "Epoch 1/10\n",
      "1182/1182 [==============================] - 4s 3ms/step - loss: 0.6469 - accuracy: 0.8701 - val_loss: 0.2630 - val_accuracy: 0.9398\n",
      "Epoch 2/10\n",
      "1182/1182 [==============================] - 3s 2ms/step - loss: 0.1860 - accuracy: 0.9560 - val_loss: 0.1744 - val_accuracy: 0.9529\n",
      "Epoch 3/10\n",
      "1182/1182 [==============================] - 3s 3ms/step - loss: 0.1170 - accuracy: 0.9698 - val_loss: 0.1330 - val_accuracy: 0.9619\n",
      "Epoch 4/10\n",
      "1182/1182 [==============================] - 3s 3ms/step - loss: 0.0854 - accuracy: 0.9774 - val_loss: 0.1173 - val_accuracy: 0.9640\n",
      "Epoch 5/10\n",
      "1182/1182 [==============================] - 4s 3ms/step - loss: 0.0653 - accuracy: 0.9823 - val_loss: 0.1051 - val_accuracy: 0.9688\n",
      "Epoch 6/10\n",
      "1182/1182 [==============================] - 4s 3ms/step - loss: 0.0527 - accuracy: 0.9858 - val_loss: 0.1042 - val_accuracy: 0.9688\n",
      "Epoch 7/10\n",
      "1182/1182 [==============================] - 4s 3ms/step - loss: 0.0426 - accuracy: 0.9883 - val_loss: 0.1066 - val_accuracy: 0.9681\n",
      "Epoch 8/10\n",
      "1182/1182 [==============================] - 3s 3ms/step - loss: 0.0353 - accuracy: 0.9899 - val_loss: 0.1055 - val_accuracy: 0.9686\n",
      "Epoch 9/10\n",
      "1182/1182 [==============================] - 4s 3ms/step - loss: 0.0280 - accuracy: 0.9926 - val_loss: 0.0952 - val_accuracy: 0.9726\n",
      "Epoch 10/10\n",
      "1182/1182 [==============================] - 4s 3ms/step - loss: 0.0248 - accuracy: 0.9930 - val_loss: 0.1194 - val_accuracy: 0.9698\n"
     ]
    }
   ],
   "source": [
    "history = model.fit(x_train, y_train, epochs=10, batch_size=32, validation_data=(x_val, y_val))"
   ]
  },
  {
   "cell_type": "code",
   "execution_count": 60,
   "metadata": {},
   "outputs": [
    {
     "name": "stdout",
     "output_type": "stream",
     "text": [
      "132/132 [==============================] - 0s 1ms/step - loss: 0.1194 - accuracy: 0.9698\n",
      "Validation accuracy: 96.98%\n"
     ]
    }
   ],
   "source": [
    "loss, accuracy = model.evaluate(x_val, y_val)\n",
    "print(f'Validation accuracy: {accuracy * 100:.2f}%')"
   ]
  },
  {
   "cell_type": "code",
   "execution_count": 61,
   "metadata": {},
   "outputs": [
    {
     "name": "stdout",
     "output_type": "stream",
     "text": [
      "875/875 [==============================] - 1s 901us/step\n"
     ]
    },
    {
     "data": {
      "text/html": [
       "<div>\n",
       "<style scoped>\n",
       "    .dataframe tbody tr th:only-of-type {\n",
       "        vertical-align: middle;\n",
       "    }\n",
       "\n",
       "    .dataframe tbody tr th {\n",
       "        vertical-align: top;\n",
       "    }\n",
       "\n",
       "    .dataframe thead th {\n",
       "        text-align: right;\n",
       "    }\n",
       "</style>\n",
       "<table border=\"1\" class=\"dataframe\">\n",
       "  <thead>\n",
       "    <tr style=\"text-align: right;\">\n",
       "      <th></th>\n",
       "      <th>ImageId</th>\n",
       "      <th>Label</th>\n",
       "    </tr>\n",
       "  </thead>\n",
       "  <tbody>\n",
       "    <tr>\n",
       "      <th>0</th>\n",
       "      <td>1</td>\n",
       "      <td>2</td>\n",
       "    </tr>\n",
       "    <tr>\n",
       "      <th>1</th>\n",
       "      <td>2</td>\n",
       "      <td>0</td>\n",
       "    </tr>\n",
       "    <tr>\n",
       "      <th>2</th>\n",
       "      <td>3</td>\n",
       "      <td>9</td>\n",
       "    </tr>\n",
       "    <tr>\n",
       "      <th>3</th>\n",
       "      <td>4</td>\n",
       "      <td>9</td>\n",
       "    </tr>\n",
       "    <tr>\n",
       "      <th>4</th>\n",
       "      <td>5</td>\n",
       "      <td>3</td>\n",
       "    </tr>\n",
       "  </tbody>\n",
       "</table>\n",
       "</div>"
      ],
      "text/plain": [
       "   ImageId  Label\n",
       "0        1      2\n",
       "1        2      0\n",
       "2        3      9\n",
       "3        4      9\n",
       "4        5      3"
      ]
     },
     "execution_count": 61,
     "metadata": {},
     "output_type": "execute_result"
    }
   ],
   "source": [
    "\n",
    "\n",
    "predictions = np.argmax(model.predict(x_test), axis=-1)\n",
    "submission = pd.DataFrame({'ImageId': list(range(1, len(predictions) + 1)), 'Label': predictions})\n",
    "submission.to_csv('submission.csv', index=False)\n",
    "submission.head()\n"
   ]
  }
 ],
 "metadata": {
  "kernelspec": {
   "display_name": "Python 3",
   "language": "python",
   "name": "python3"
  },
  "language_info": {
   "codemirror_mode": {
    "name": "ipython",
    "version": 3
   },
   "file_extension": ".py",
   "mimetype": "text/x-python",
   "name": "python",
   "nbconvert_exporter": "python",
   "pygments_lexer": "ipython3",
   "version": "3.8.10"
  }
 },
 "nbformat": 4,
 "nbformat_minor": 2
}
